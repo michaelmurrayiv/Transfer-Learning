{
 "cells": [
  {
   "cell_type": "markdown",
   "id": "b1a3bdf2-19aa-474d-b316-4df284baacee",
   "metadata": {},
   "source": [
    "# Cat vs. Dog vs. Fox: Transfer Learning in PyTorch"
   ]
  },
  {
   "cell_type": "markdown",
   "id": "2d822074-bb49-40ae-9a3c-1ed4d4fdf8f6",
   "metadata": {},
   "source": [
    "## Objective\n",
    "Apply transfer learning techniques to fine-tune a pre-trained model in PyTorch for a multi-class classification task: distinguishing between images of cats, dogs, and foxes. This project develops skills in dataset preparation, model fine-tuning, and performance evaluation.\n",
    "## Problem Description\n",
    "Cats, dogs, and foxes are often confused due to their physical similarities, such as fur patterns, ear shapes, and size. This project aims to create a machine learning model that classifies images into one of three categories:\n",
    "\n",
    "* Cat\n",
    "* Dog\n",
    "* Fox\n",
    "\n",
    "Using transfer learning, this project leverages the pre-trained ResNet model from PyTorch to develop an effective classification system."
   ]
  },
  {
   "cell_type": "markdown",
   "id": "5ee2334e-7eb6-43c2-b87d-55c47d89730b",
   "metadata": {},
   "source": [
    "## Requirements"
   ]
  },
  {
   "cell_type": "markdown",
   "id": "9a18b85e-748b-4cd6-b87f-8b696acff459",
   "metadata": {},
   "source": [
    "### Data Preparation:\n",
    "1. Use or create a dataset with labeled images of cats, dogs, and foxes. Suggested sources include public image datasets such as those on Kaggle.\n",
    "2. Split the dataset into training, validation, and test sets.\n",
    "3. Preprocess the images to meet the input requirements of your chosen pre-trained model (e.g., resizing, normalization)."
   ]
  },
  {
   "cell_type": "markdown",
   "id": "978c3f51-3d4f-491b-bc4c-3787e0734fba",
   "metadata": {},
   "source": [
    "### Model Selection and Fine-Tuning:\n",
    "1. Choose a pre-trained model from PyTorch’s torchvision.models library (e.g., ResNet, VGG, or EfficientNet).\n",
    "2. Replace the model’s classification head with a custom fully connected layer for three output classes (cat, dog, fox).\n",
    "3. Fine-tune the model on your dataset, optimizing the training process to achieve the best results."
   ]
  },
  {
   "cell_type": "markdown",
   "id": "e92ac19c-732c-4d1f-86f7-723d26e32d26",
   "metadata": {},
   "source": [
    "### Evaluation:\n",
    "1. Assess the model’s performance using metrics such as accuracy, precision, recall, and F1-score.\n",
    "2. Visualize the confusion matrix to identify common misclassifications."
   ]
  },
  {
   "cell_type": "markdown",
   "id": "cd1d557e-38b2-4b69-8c47-9a3b4618b820",
   "metadata": {},
   "source": [
    "### Explainability (Optional):\n",
    "Use tools like Grad-CAM to visualize what parts of the image the model focuses on for each class.\n",
    "Discuss whether the model’s learned features align with human intuition (e.g., ear shape, snout length)."
   ]
  },
  {
   "cell_type": "markdown",
   "id": "591ff3b7-aa3a-463e-89be-e030ef0ed316",
   "metadata": {},
   "source": [
    "## Commit and Push changes to GitHub"
   ]
  },
  {
   "cell_type": "code",
   "execution_count": 17,
   "id": "e7032b1f-c20f-4b78-8828-83c0030c929c",
   "metadata": {},
   "outputs": [
    {
     "name": "stdin",
     "output_type": "stream",
     "text": [
      "Enter your commit message:  initial commit\n"
     ]
    },
    {
     "name": "stdout",
     "output_type": "stream",
     "text": [
      "[main 4e33cbc] initial commit\n",
      " 1 file changed, 57 insertions(+), 8 deletions(-)\n",
      "Enumerating objects: 5, done.\n",
      "Counting objects: 100% (5/5), done.\n",
      "Delta compression using up to 8 threads\n",
      "Compressing objects: 100% (3/3), done.\n",
      "Writing objects: 100% (3/3), 969 bytes | 969.00 KiB/s, done.\n",
      "Total 3 (delta 1), reused 0 (delta 0), pack-reused 0\n",
      "remote: Resolving deltas: 100% (1/1), completed with 1 local object.\u001b[K\n",
      "To https://github.com/michaelmurrayiv/Transfer-Learning.git\n",
      "   1e7001b..4e33cbc  main -> main\n"
     ]
    }
   ],
   "source": [
    "# push changes to GitHub\n",
    "commit_message = input(\"Enter your commit message: \")\n",
    "!git add Transfer\\ Learning.ipynb\n",
    "!git commit -m \"{commit_message}\"\n",
    "!git push origin main"
   ]
  }
 ],
 "metadata": {
  "kernelspec": {
   "display_name": "Python 3 (ipykernel)",
   "language": "python",
   "name": "python3"
  },
  "language_info": {
   "codemirror_mode": {
    "name": "ipython",
    "version": 3
   },
   "file_extension": ".py",
   "mimetype": "text/x-python",
   "name": "python",
   "nbconvert_exporter": "python",
   "pygments_lexer": "ipython3",
   "version": "3.10.7"
  }
 },
 "nbformat": 4,
 "nbformat_minor": 5
}
