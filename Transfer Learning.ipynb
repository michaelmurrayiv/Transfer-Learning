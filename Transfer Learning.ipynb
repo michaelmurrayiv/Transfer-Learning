{
 "cells": [
  {
   "cell_type": "markdown",
   "id": "b1a3bdf2-19aa-474d-b316-4df284baacee",
   "metadata": {},
   "source": [
    "# Cat vs. Dog vs. Fox: Transfer Learning in PyTorch"
   ]
  },
  {
   "cell_type": "markdown",
   "id": "2d822074-bb49-40ae-9a3c-1ed4d4fdf8f6",
   "metadata": {},
   "source": [
    "## Objective\n",
    "Apply transfer learning techniques to fine-tune a pre-trained model in PyTorch for a multi-class classification task: distinguishing between images of cats, dogs, and foxes. This project develops skills in dataset preparation, model fine-tuning, and performance evaluation.\n",
    "## Problem Description\n",
    "Cats, dogs, and foxes are often confused due to their physical similarities, such as fur patterns, ear shapes, and size. This project aims to create a machine learning model that classifies images into one of three categories:\n",
    "\n",
    "* Cat\n",
    "* Dog\n",
    "* Fox\n",
    "\n",
    "Using transfer learning, this project leverages the pre-trained ResNet model from PyTorch to develop an effective classification system."
   ]
  },
  {
   "cell_type": "markdown",
   "id": "5ee2334e-7eb6-43c2-b87d-55c47d89730b",
   "metadata": {},
   "source": [
    "## Requirements"
   ]
  },
  {
   "cell_type": "markdown",
   "id": "9a18b85e-748b-4cd6-b87f-8b696acff459",
   "metadata": {},
   "source": [
    "### Data Preparation:\n",
    "1. Use or create a dataset with labeled images of cats, dogs, and foxes. Suggested sources include public image datasets such as those on Kaggle.\n",
    "2. Split the dataset into training, validation, and test sets.\n",
    "3. Preprocess the images to meet the input requirements of your chosen pre-trained model (e.g., resizing, normalization)."
   ]
  },
  {
   "cell_type": "markdown",
   "id": "978c3f51-3d4f-491b-bc4c-3787e0734fba",
   "metadata": {},
   "source": [
    "### Model Selection and Fine-Tuning:\n",
    "1. Choose a pre-trained model from PyTorch’s torchvision.models library (e.g., ResNet, VGG, or EfficientNet).\n",
    "2. Replace the model’s classification head with a custom fully connected layer for three output classes (cat, dog, fox).\n",
    "3. Fine-tune the model on your dataset, optimizing the training process to achieve the best results."
   ]
  },
  {
   "cell_type": "markdown",
   "id": "e92ac19c-732c-4d1f-86f7-723d26e32d26",
   "metadata": {},
   "source": [
    "### Evaluation:\n",
    "1. Assess the model’s performance using metrics such as accuracy, precision, recall, and F1-score.\n",
    "2. Visualize the confusion matrix to identify common misclassifications."
   ]
  },
  {
   "cell_type": "markdown",
   "id": "cd1d557e-38b2-4b69-8c47-9a3b4618b820",
   "metadata": {},
   "source": [
    "### Explainability (Optional):\n",
    "Use tools like Grad-CAM to visualize what parts of the image the model focuses on for each class.\n",
    "Discuss whether the model’s learned features align with human intuition (e.g., ear shape, snout length)."
   ]
  },
  {
   "cell_type": "code",
   "execution_count": 9,
   "id": "e7032b1f-c20f-4b78-8828-83c0030c929c",
   "metadata": {},
   "outputs": [
    {
     "name": "stdin",
     "output_type": "stream",
     "text": [
      "Enter your commit message:  initial commit\n"
     ]
    },
    {
     "name": "stdout",
     "output_type": "stream",
     "text": [
      "[main (root-commit) 1e7001b] initial commit\n",
      " 1 file changed, 127 insertions(+)\n",
      " create mode 100644 Transfer Learning.ipynb\n",
      "fatal: 'origin' does not appear to be a git repository\n",
      "fatal: Could not read from remote repository.\n",
      "\n",
      "Please make sure you have the correct access rights\n",
      "and the repository exists.\n"
     ]
    }
   ],
   "source": [
    "# push changes to GitHub\n",
    "commit_message = input(\"Enter your commit message: \")\n",
    "!git add Transfer\\ Learning.ipynb\n",
    "!git commit -m \"{commit_message}\"\n",
    "!git push origin main"
   ]
  },
  {
   "cell_type": "code",
   "execution_count": 11,
   "id": "cff5b7e1-ac11-4f50-8717-5a9ae81cda58",
   "metadata": {},
   "outputs": [],
   "source": [
    "!git remote -v\n"
   ]
  },
  {
   "cell_type": "code",
   "execution_count": 14,
   "id": "cf56ca3b-0c20-42af-9b29-c7901fdc99cb",
   "metadata": {},
   "outputs": [
    {
     "name": "stdout",
     "output_type": "stream",
     "text": [
      "error: remote origin already exists.\n",
      "remote: Repository not found.\n",
      "fatal: repository 'https://github.com/your-username/your-repository.git/' not found\n"
     ]
    }
   ],
   "source": [
    "!git remote add origin https://github.com/michaelmurrayiv/Transfer-Learning.git\n",
    "!git branch -M main\n",
    "!git push -u origin main\n"
   ]
  },
  {
   "cell_type": "code",
   "execution_count": null,
   "id": "26789a1d-1149-439e-bbda-5f942200a26e",
   "metadata": {},
   "outputs": [],
   "source": []
  }
 ],
 "metadata": {
  "kernelspec": {
   "display_name": "Python 3 (ipykernel)",
   "language": "python",
   "name": "python3"
  },
  "language_info": {
   "codemirror_mode": {
    "name": "ipython",
    "version": 3
   },
   "file_extension": ".py",
   "mimetype": "text/x-python",
   "name": "python",
   "nbconvert_exporter": "python",
   "pygments_lexer": "ipython3",
   "version": "3.10.7"
  }
 },
 "nbformat": 4,
 "nbformat_minor": 5
}
